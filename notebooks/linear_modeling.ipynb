{
 "cells": [
  {
   "cell_type": "markdown",
   "id": "a7509ab3",
   "metadata": {},
   "source": [
    "# Blue Bikes Demand Prediction - Linear Regression Model\n",
    "\n",
    "This notebook builds and evaluates a linear regression model to predict daily trip counts at Blue Bikes stations.\n",
    "\n",
    "## Contents:\n",
    "1. **Load and Prepare Data** - Import processed dataset\n",
    "2. **Train/Test Split** - Split by year (2022-2024 train, 2025 test)\n",
    "3. **Build Linear Regression** - Train model on selected features\n",
    "4. **Evaluate Performance** - Calculate RMSE and MAE\n",
    "5. **Analyze Results** - Feature importance and error analysis\n",
    "6. **Conclusions** - Summary of findings\n",
    "\n",
    "---\n",
    "\n",
    "**Goal:** Predict daily trip count per station using weather and temporal features.\n",
    "\n",
    "**Model:** Linear Regression (baseline model for comparison with future advanced models)\n",
    "\n",
    "**Evaluation:** RMSE (Root Mean Squared Error) and MAE (Mean Absolute Error) on 2025 test data"
   ]
  },
  {
   "cell_type": "markdown",
   "id": "9dfe377a",
   "metadata": {},
   "source": [
    "## 1. Load and Prepare Data\n",
    "\n",
    "Import necessary libraries and load the processed dataset."
   ]
  },
  {
   "cell_type": "code",
   "execution_count": null,
   "id": "b5fef669",
   "metadata": {},
   "outputs": [],
   "source": [
    "# Imports\n",
    "import os\n",
    "from pathlib import Path\n",
    "import numpy as np\n",
    "import pandas as pd\n",
    "import matplotlib.pyplot as plt\n",
    "import seaborn as sns\n",
    "from sklearn.linear_model import LinearRegression\n",
    "from sklearn.metrics import mean_absolute_error, mean_squared_error, r2_score\n",
    "\n",
    "# Plot style\n",
    "sns.set(style=\"whitegrid\", context=\"notebook\")\n",
    "plt.rcParams[\"figure.figsize\"] = (10, 5)\n",
    "\n",
    "print(\"Libraries imported.\")"
   ]
  },
  {
   "cell_type": "markdown",
   "id": "2e1ed15c",
   "metadata": {},
   "source": [
    "## 2. Load processed dataset\n",
    "\n",
    "Attempt to load the processed daily dataset. Expects a `date` column and a numeric target such as `trip_count`."
   ]
  },
  {
   "cell_type": "code",
   "execution_count": null,
   "id": "844d6ad3",
   "metadata": {},
   "outputs": [],
   "source": [
    "# Robustly resolve processed CSV path(s)\n",
    "base = Path.cwd()\n",
    "# Notebook is likely in notebooks/; processed data likely in ../data/processed/\n",
    "candidates = [\n",
    "    base / \"../data/processed/merged_data.csv\",\n",
    "    base / \"../data/processed/sample_merged_data.csv\",\n",
    "]\n",
    "\n",
    "path = None\n",
    "for c in candidates:\n",
    "    if c.exists():\n",
    "        path = c.resolve()\n",
    "        break\n",
    "\n",
    "if path is None:\n",
    "    raise FileNotFoundError(\"Could not find processed data. Expected one of: \" + \", \".join(map(str, candidates)))\n",
    "\n",
    "print(f\"Loading: {path}\")\n",
    "\n",
    "df = pd.read_csv(path)\n",
    "\n",
    "# Ensure date column exists and is datetime\n",
    "if \"date\" in df.columns:\n",
    "    df[\"date\"] = pd.to_datetime(df[\"date\"])  # coerce errors if needed\n",
    "else:\n",
    "    raise KeyError(\"Expected a 'date' column in processed dataset.\")\n",
    "\n",
    "# Ensure target exists; default to 'trip_count' if present\n",
    "candidate_targets = [\"trip_count\", \"count\", \"rides\", \"n_trips\"]\n",
    "y_col = next((c for c in candidate_targets if c in df.columns), None)\n",
    "if y_col is None:\n",
    "    raise KeyError(f\"Could not find target column in {candidate_targets}.\")\n",
    "\n",
    "# Sort by date and drop rows with missing target\n",
    "if df[y_col].isna().any():\n",
    "    print(f\"Dropping {df[y_col].isna().sum()} rows with NaN {y_col}.\")\n",
    "    df = df.dropna(subset=[y_col])\n",
    "\n",
    "df = df.sort_values(\"date\").reset_index(drop=True)\n",
    "\n",
    "# Convenience year column if missing\n",
    "if \"year\" not in df.columns:\n",
    "    df[\"year\"] = df[\"date\"].dt.year\n",
    "\n",
    "print(\"Loaded rows:\", len(df))\n",
    "df.head(3)"
   ]
  },
  {
   "cell_type": "markdown",
   "id": "ed95dab0",
   "metadata": {},
   "source": [
    "## 3. Train/Test Split (temporal)\n",
    "\n",
    "Use a time-based split to avoid leakage. We'll use dates before 2024-01-01 for training and 2024+ for testing if available."
   ]
  },
  {
   "cell_type": "code",
   "execution_count": null,
   "id": "41d22345",
   "metadata": {},
   "outputs": [],
   "source": [
    "split_date = pd.Timestamp(\"2024-01-01\")\n",
    "\n",
    "train_df = df[df[\"date\"] < split_date].copy()\n",
    "test_df = df[df[\"date\"] >= split_date].copy()\n",
    "\n",
    "print(f\"Train rows: {len(train_df)}; Test rows: {len(test_df)}\")\n",
    "\n",
    "if len(test_df) == 0:\n",
    "    print(\"No 2024+ data found; using last 20% of time-ordered data as test set.\")\n",
    "    cutoff = int(len(df) * 0.8)\n",
    "    train_df = df.iloc[:cutoff].copy()\n",
    "    test_df = df.iloc[cutoff:].copy()\n",
    "\n",
    "train_df[[\"date\", y_col]].head(3)"
   ]
  },
  {
   "cell_type": "markdown",
   "id": "09aacf2e",
   "metadata": {},
   "source": [
    "## 4. Feature Selection\n",
    "\n",
    "Pick candidate features from weather and calendar; use only those that exist in the data."
   ]
  },
  {
   "cell_type": "code",
   "execution_count": null,
   "id": "963ccfd1",
   "metadata": {},
   "outputs": [],
   "source": [
    "# Candidate features; we'll intersect with available columns\n",
    "candidate_features = [\n",
    "    # weather\n",
    "    \"temp_max\", \"temp_min\", \"windspeed_max\", \"precipitation\", \"snowfall\", \"snow_depth\",\n",
    "    # calendar/temporal\n",
    "    \"is_weekend\", \"is_holiday\", \"month\", \"day_of_week\", \"day_of_year\",\n",
    "]\n",
    "\n",
    "# Ensure basic temporal features exist\n",
    "if \"month\" not in df.columns:\n",
    "    df[\"month\"] = df[\"date\"].dt.month\n",
    "    train_df[\"month\"] = train_df[\"date\"].dt.month\n",
    "    test_df[\"month\"] = test_df[\"date\"].dt.month\n",
    "if \"day_of_week\" not in df.columns:\n",
    "    df[\"day_of_week\"] = df[\"date\"].dt.dayofweek\n",
    "    train_df[\"day_of_week\"] = train_df[\"date\"].dt.dayofweek\n",
    "    test_df[\"day_of_week\"] = test_df[\"date\"].dt.dayofweek\n",
    "if \"day_of_year\" not in df.columns:\n",
    "    df[\"day_of_year\"] = df[\"date\"].dt.dayofyear\n",
    "    train_df[\"day_of_year\"] = train_df[\"date\"].dt.dayofyear\n",
    "    test_df[\"day_of_year\"] = test_df[\"date\"].dt.dayofyear\n",
    "if \"is_weekend\" not in df.columns:\n",
    "    df[\"is_weekend\"] = df[\"day_of_week\"].isin([5, 6]).astype(int)\n",
    "    train_df[\"is_weekend\"] = train_df[\"day_of_week\"].isin([5, 6]).astype(int)\n",
    "    test_df[\"is_weekend\"] = test_df[\"day_of_week\"].isin([5, 6]).astype(int)\n",
    "\n",
    "# Booleans to ints if present\n",
    "for b in [\"is_weekend\", \"is_holiday\"]:\n",
    "    if b in df.columns and df[b].dtype == bool:\n",
    "        df[b] = df[b].astype(int)\n",
    "        if b in train_df.columns:\n",
    "            train_df[b] = train_df[b].astype(int)\n",
    "        if b in test_df.columns:\n",
    "            test_df[b] = test_df[b].astype(int)\n",
    "\n",
    "available_features = [c for c in candidate_features if c in df.columns]\n",
    "print(\"Using features:\", available_features)\n",
    "\n",
    "# Build matrices\n",
    "X_train = train_df[available_features].copy()\n",
    "X_test = test_df[available_features].copy()\n",
    "y_train = train_df[y_col].astype(float).values\n",
    "y_test = test_df[y_col].astype(float).values\n",
    "\n",
    "X_train.shape, X_test.shape"
   ]
  },
  {
   "cell_type": "markdown",
   "id": "0c95c99a",
   "metadata": {},
   "source": [
    "## 5. Train Linear Regression\n",
    "\n",
    "Fit a simple baseline linear regression to available features."
   ]
  },
  {
   "cell_type": "code",
   "execution_count": null,
   "id": "23060209",
   "metadata": {},
   "outputs": [],
   "source": [
    "lr = LinearRegression()\n",
    "lr.fit(X_train, y_train)\n",
    "\n",
    "# Predictions\n",
    "train_pred = lr.predict(X_train)\n",
    "test_pred = lr.predict(X_test)\n",
    "\n",
    "print(\"Coefficients:\")\n",
    "for name, coef in zip(available_features, lr.coef_):\n",
    "    print(f\"  {name:>15}: {coef: .4f}\")\n",
    "print(f\"Intercept: {lr.intercept_: .4f}\")"
   ]
  },
  {
   "cell_type": "markdown",
   "id": "80d52d7e",
   "metadata": {},
   "source": [
    "## 6. Evaluate Model\n",
    "\n",
    "Report MAE, RMSE, and R^2 on train and test splits."
   ]
  },
  {
   "cell_type": "code",
   "execution_count": null,
   "id": "4154ddb9",
   "metadata": {},
   "outputs": [],
   "source": [
    "def compute_metrics(y_true, y_pred, label=\"\"):\n",
    "    mae = mean_absolute_error(y_true, y_pred)\n",
    "    rmse = mean_squared_error(y_true, y_pred, squared=False)\n",
    "    r2 = r2_score(y_true, y_pred)\n",
    "    print(f\"{label} MAE:  {mae:,.2f}\")\n",
    "    print(f\"{label} RMSE: {rmse:,.2f}\")\n",
    "    print(f\"{label} R^2:  {r2:,.4f}\")\n",
    "    return {\"mae\": mae, \"rmse\": rmse, \"r2\": r2}\n",
    "\n",
    "print(\"Train performance:\")\n",
    "train_metrics = compute_metrics(y_train, train_pred, label=\"Train\")\n",
    "print(\"\\nTest performance:\")\n",
    "test_metrics = compute_metrics(y_test, test_pred, label=\"Test\")"
   ]
  }
 ],
 "metadata": {
  "language_info": {
   "name": "python"
  }
 },
 "nbformat": 4,
 "nbformat_minor": 5
}
